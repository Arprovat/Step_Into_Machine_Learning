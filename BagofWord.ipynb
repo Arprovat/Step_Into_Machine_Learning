{
  "nbformat": 4,
  "nbformat_minor": 0,
  "metadata": {
    "colab": {
      "provenance": [],
      "authorship_tag": "ABX9TyPRgtyriKcpU6go+AuPIuX5",
      "include_colab_link": true
    },
    "kernelspec": {
      "name": "python3",
      "display_name": "Python 3"
    },
    "language_info": {
      "name": "python"
    }
  },
  "cells": [
    {
      "cell_type": "markdown",
      "metadata": {
        "id": "view-in-github",
        "colab_type": "text"
      },
      "source": [
        "<a href=\"https://colab.research.google.com/github/Arprovat/Step_Into_Machine_Learning/blob/NLP/BagofWord.ipynb\" target=\"_parent\"><img src=\"https://colab.research.google.com/assets/colab-badge.svg\" alt=\"Open In Colab\"/></a>"
      ]
    },
    {
      "cell_type": "markdown",
      "source": [
        "**Text preporocessing**\n",
        "\n",
        "* *Tokenizer*-> Sentence into word\n",
        "* *stopWord* -> Remove some unimportant word\n",
        "* *stemming* -> Reduce char from words to their base word\n",
        "* *lemmatization* -> Reduce char from words to their base word but give menningfull word\n",
        "\n"
      ],
      "metadata": {
        "id": "bxPE3fn_xaq6"
      }
    },
    {
      "cell_type": "code",
      "execution_count": 2,
      "metadata": {
        "id": "rL42equWiLw-"
      },
      "outputs": [],
      "source": [
        "paragraph= \"\"\" Muhammad Yunus[a] (born 28 June 1940) is a Bangladeshi economist, entrepreneur, statesman and civil society leader who has been serving as the Chief Adviser of the interim government of Bangladesh since 8 August 2024.[1] Yunus pioneered the modern concept of microcredit and microfinance, for which he was awarded the Nobel Peace Prize in 2006 as the first Bangladeshi. He is the founder of Grameen Bank.\n",
        "\n",
        "Born in Hathazari, Chittagong, Yunus passed his matriculation and intermediate examinations from Chittagong Collegiate School and Chittagong College, respectively. He completed his BA from University of Dhaka and joined as a lecturer in Chittagong College. He obtained his PhD in economics from Vanderbilt University in West Germany.\"\"\""
      ]
    },
    {
      "cell_type": "code",
      "source": [
        "paragraph\n"
      ],
      "metadata": {
        "colab": {
          "base_uri": "https://localhost:8080/",
          "height": 122
        },
        "id": "X8bDA2zJjZ8r",
        "outputId": "0071533a-edaf-42ab-b7c6-3619e67fac52"
      },
      "execution_count": 3,
      "outputs": [
        {
          "output_type": "execute_result",
          "data": {
            "text/plain": [
              "' Muhammad Yunus[a] (born 28 June 1940) is a Bangladeshi economist, entrepreneur, statesman and civil society leader who has been serving as the Chief Adviser of the interim government of Bangladesh since 8 August 2024.[1] Yunus pioneered the modern concept of microcredit and microfinance, for which he was awarded the Nobel Peace Prize in 2006 as the first Bangladeshi. He is the founder of Grameen Bank.\\n\\nBorn in Hathazari, Chittagong, Yunus passed his matriculation and intermediate examinations from Chittagong Collegiate School and Chittagong College, respectively. He completed his BA from University of Dhaka and joined as a lecturer in Chittagong College. He obtained his PhD in economics from Vanderbilt University in West Germany.'"
            ],
            "application/vnd.google.colaboratory.intrinsic+json": {
              "type": "string"
            }
          },
          "metadata": {},
          "execution_count": 3
        }
      ]
    },
    {
      "cell_type": "code",
      "source": [
        "import nltk\n",
        "from nltk.stem import PorterStemmer\n",
        "from nltk.corpus import stopwords\n",
        "nltk.download('stopwords')"
      ],
      "metadata": {
        "colab": {
          "base_uri": "https://localhost:8080/"
        },
        "id": "F2-WmP9EkBsy",
        "outputId": "527bcdd3-c711-43e5-8497-bdb434804b25"
      },
      "execution_count": 42,
      "outputs": [
        {
          "output_type": "stream",
          "name": "stderr",
          "text": [
            "[nltk_data] Downloading package stopwords to /root/nltk_data...\n",
            "[nltk_data]   Unzipping corpora/stopwords.zip.\n"
          ]
        },
        {
          "output_type": "execute_result",
          "data": {
            "text/plain": [
              "True"
            ]
          },
          "metadata": {},
          "execution_count": 42
        }
      ]
    },
    {
      "cell_type": "code",
      "source": [
        "nltk.download('punkt_tab')\n",
        "sentance=nltk.sent_tokenize(paragraph)"
      ],
      "metadata": {
        "colab": {
          "base_uri": "https://localhost:8080/"
        },
        "id": "H7_Tpbv5lUlI",
        "outputId": "9b9f2c5d-010f-41d6-8a7d-de4b79402f84"
      },
      "execution_count": 10,
      "outputs": [
        {
          "output_type": "stream",
          "name": "stderr",
          "text": [
            "[nltk_data] Downloading package punkt_tab to /root/nltk_data...\n",
            "[nltk_data]   Package punkt_tab is already up-to-date!\n"
          ]
        }
      ]
    },
    {
      "cell_type": "code",
      "source": [
        "print(type(sentance))\n",
        "print(sentance)"
      ],
      "metadata": {
        "colab": {
          "base_uri": "https://localhost:8080/"
        },
        "id": "X9YquwRRmDQC",
        "outputId": "4c6f9e9e-ac31-4167-e509-412354c70946"
      },
      "execution_count": 13,
      "outputs": [
        {
          "output_type": "stream",
          "name": "stdout",
          "text": [
            "<class 'list'>\n",
            "[' Muhammad Yunus[a] (born 28 June 1940) is a Bangladeshi economist, entrepreneur, statesman and civil society leader who has been serving as the Chief Adviser of the interim government of Bangladesh since 8 August 2024.', '[1] Yunus pioneered the modern concept of microcredit and microfinance, for which he was awarded the Nobel Peace Prize in 2006 as the first Bangladeshi.', 'He is the founder of Grameen Bank.', 'Born in Hathazari, Chittagong, Yunus passed his matriculation and intermediate examinations from Chittagong Collegiate School and Chittagong College, respectively.', 'He completed his BA from University of Dhaka and joined as a lecturer in Chittagong College.', 'He obtained his PhD in economics from Vanderbilt University in West Germany.']\n"
          ]
        }
      ]
    },
    {
      "cell_type": "code",
      "source": [
        "stemmer = PorterStemmer()\n",
        "stemmer.stem('playing')\n",
        "stemmer.stem(\"history\")"
      ],
      "metadata": {
        "colab": {
          "base_uri": "https://localhost:8080/",
          "height": 35
        },
        "id": "pNNV6LMnmUda",
        "outputId": "a58ecb92-72b4-4d6e-d658-a3093c3352ca"
      },
      "execution_count": 28,
      "outputs": [
        {
          "output_type": "execute_result",
          "data": {
            "text/plain": [
              "'histori'"
            ],
            "application/vnd.google.colaboratory.intrinsic+json": {
              "type": "string"
            }
          },
          "metadata": {},
          "execution_count": 28
        }
      ]
    },
    {
      "cell_type": "code",
      "source": [
        "from nltk.stem import WordNetLemmatizer\n",
        "nltk.download('wordnet')\n"
      ],
      "metadata": {
        "colab": {
          "base_uri": "https://localhost:8080/",
          "height": 70
        },
        "id": "OzlDxojRm2jE",
        "outputId": "02ba0db1-d881-424e-cfb1-822f61a55ee9"
      },
      "execution_count": 22,
      "outputs": [
        {
          "output_type": "stream",
          "name": "stderr",
          "text": [
            "[nltk_data] Downloading package wordnet to /root/nltk_data...\n",
            "[nltk_data]   Package wordnet is already up-to-date!\n"
          ]
        },
        {
          "output_type": "execute_result",
          "data": {
            "text/plain": [
              "'playing'"
            ],
            "application/vnd.google.colaboratory.intrinsic+json": {
              "type": "string"
            }
          },
          "metadata": {},
          "execution_count": 22
        }
      ]
    },
    {
      "cell_type": "code",
      "source": [
        "lemmatizer = WordNetLemmatizer()\n",
        "lemmatizer.lemmatize('playing')\n",
        "lemmatizer.lemmatize(\"history\")"
      ],
      "metadata": {
        "colab": {
          "base_uri": "https://localhost:8080/",
          "height": 35
        },
        "id": "ShJdYReTnf1p",
        "outputId": "3628091e-fcc4-4a48-ccea-53418571f4b8"
      },
      "execution_count": 29,
      "outputs": [
        {
          "output_type": "execute_result",
          "data": {
            "text/plain": [
              "'history'"
            ],
            "application/vnd.google.colaboratory.intrinsic+json": {
              "type": "string"
            }
          },
          "metadata": {},
          "execution_count": 29
        }
      ]
    },
    {
      "cell_type": "code",
      "source": [
        "import re\n",
        "corpus =[]\n",
        "\n",
        "for i in range(len(sentance)):\n",
        "  review=re.sub('[^a-zA-Z]',' ',sentance[i])\n",
        "  review.lower()\n",
        "  review = review.split()\n",
        "  review = [lemmatizer.lemmatize(word) for word in review if not word in set(stopwords.words('english'))]\n",
        "  review = ' '.join(review)\n",
        "  corpus.append(review)"
      ],
      "metadata": {
        "id": "3Xo_3ZrroPcD"
      },
      "execution_count": 59,
      "outputs": []
    },
    {
      "cell_type": "markdown",
      "source": [],
      "metadata": {
        "id": "fDoHZuc5v2SV"
      }
    },
    {
      "cell_type": "code",
      "source": [
        "print(corpus)"
      ],
      "metadata": {
        "colab": {
          "base_uri": "https://localhost:8080/"
        },
        "id": "6lnzXRUzpl6G",
        "outputId": "a60cec31-f955-468c-e7a4-44a16fc5d796"
      },
      "execution_count": 34,
      "outputs": [
        {
          "output_type": "stream",
          "name": "stdout",
          "text": [
            "[' Muhammad Yunus a   born    June       is a Bangladeshi economist  entrepreneur  statesman and civil society leader who has been serving as the Chief Adviser of the interim government of Bangladesh since   August      ', '    Yunus pioneered the modern concept of microcredit and microfinance  for which he was awarded the Nobel Peace Prize in      as the first Bangladeshi ', 'He is the founder of Grameen Bank ', 'Born in Hathazari  Chittagong  Yunus passed his matriculation and intermediate examinations from Chittagong Collegiate School and Chittagong College  respectively ', 'He completed his BA from University of Dhaka and joined as a lecturer in Chittagong College ', 'He obtained his PhD in economics from Vanderbilt University in West Germany ']\n"
          ]
        }
      ]
    },
    {
      "cell_type": "code",
      "source": [
        "for i in range(len(corpus)):\n",
        "  words = nltk.word_tokenize(corpus[i])\n",
        "  for word in words:\n",
        "    if word not in set(stopwords.words('english')):\n",
        "      #print(stemmer.stem(word))\n",
        "      print(lemmatizer.lemmatize(word))"
      ],
      "metadata": {
        "colab": {
          "base_uri": "https://localhost:8080/"
        },
        "id": "06ZGJrUTpp1F",
        "outputId": "84be6ed7-f9b2-4e04-de80-eb1779304dd3"
      },
      "execution_count": 44,
      "outputs": [
        {
          "output_type": "stream",
          "name": "stdout",
          "text": [
            "Muhammad\n",
            "Yunus\n",
            "born\n",
            "June\n",
            "Bangladeshi\n",
            "economist\n",
            "entrepreneur\n",
            "statesman\n",
            "civil\n",
            "society\n",
            "leader\n",
            "serving\n",
            "Chief\n",
            "Adviser\n",
            "interim\n",
            "government\n",
            "Bangladesh\n",
            "since\n",
            "August\n",
            "Yunus\n",
            "pioneered\n",
            "modern\n",
            "concept\n",
            "microcredit\n",
            "microfinance\n",
            "awarded\n",
            "Nobel\n",
            "Peace\n",
            "Prize\n",
            "first\n",
            "Bangladeshi\n",
            "He\n",
            "founder\n",
            "Grameen\n",
            "Bank\n",
            "Born\n",
            "Hathazari\n",
            "Chittagong\n",
            "Yunus\n",
            "passed\n",
            "matriculation\n",
            "intermediate\n",
            "examination\n",
            "Chittagong\n",
            "Collegiate\n",
            "School\n",
            "Chittagong\n",
            "College\n",
            "respectively\n",
            "He\n",
            "completed\n",
            "BA\n",
            "University\n",
            "Dhaka\n",
            "joined\n",
            "lecturer\n",
            "Chittagong\n",
            "College\n",
            "He\n",
            "obtained\n",
            "PhD\n",
            "economics\n",
            "Vanderbilt\n",
            "University\n",
            "West\n",
            "Germany\n"
          ]
        }
      ]
    },
    {
      "cell_type": "markdown",
      "source": [
        "**Bag of word ->convetr word to vector**"
      ],
      "metadata": {
        "id": "0J8fS5J5r4pu"
      }
    },
    {
      "cell_type": "code",
      "source": [
        "from sklearn.feature_extraction.text import CountVectorizer\n",
        "cv = CountVectorizer()"
      ],
      "metadata": {
        "id": "zr3TPWzBqMQg"
      },
      "execution_count": 45,
      "outputs": []
    },
    {
      "cell_type": "code",
      "source": [
        "X=cv.fit_transform(corpus)"
      ],
      "metadata": {
        "id": "CljGZYR2sdng"
      },
      "execution_count": 60,
      "outputs": []
    },
    {
      "cell_type": "code",
      "source": [
        "cv.vocabulary_"
      ],
      "metadata": {
        "colab": {
          "base_uri": "https://localhost:8080/"
        },
        "id": "rg5B-XUvsj0H",
        "outputId": "d8802f1b-0310-4893-ba29-3bf8e14aefd0"
      },
      "execution_count": 61,
      "outputs": [
        {
          "output_type": "execute_result",
          "data": {
            "text/plain": [
              "{'muhammad': 37,\n",
              " 'yunus': 54,\n",
              " 'born': 7,\n",
              " 'june': 30,\n",
              " 'bangladeshi': 5,\n",
              " 'economist': 17,\n",
              " 'entrepreneur': 18,\n",
              " 'statesman': 50,\n",
              " 'civil': 10,\n",
              " 'society': 49,\n",
              " 'leader': 31,\n",
              " 'serving': 47,\n",
              " 'chief': 8,\n",
              " 'adviser': 0,\n",
              " 'interim': 27,\n",
              " 'government': 23,\n",
              " 'bangladesh': 4,\n",
              " 'since': 48,\n",
              " 'august': 1,\n",
              " 'pioneered': 43,\n",
              " 'modern': 36,\n",
              " 'concept': 14,\n",
              " 'microcredit': 34,\n",
              " 'microfinance': 35,\n",
              " 'awarded': 2,\n",
              " 'nobel': 38,\n",
              " 'peace': 41,\n",
              " 'prize': 44,\n",
              " 'first': 20,\n",
              " 'he': 26,\n",
              " 'founder': 21,\n",
              " 'grameen': 24,\n",
              " 'bank': 6,\n",
              " 'hathazari': 25,\n",
              " 'chittagong': 9,\n",
              " 'passed': 40,\n",
              " 'matriculation': 33,\n",
              " 'intermediate': 28,\n",
              " 'examination': 19,\n",
              " 'collegiate': 12,\n",
              " 'school': 46,\n",
              " 'college': 11,\n",
              " 'respectively': 45,\n",
              " 'completed': 13,\n",
              " 'ba': 3,\n",
              " 'university': 51,\n",
              " 'dhaka': 15,\n",
              " 'joined': 29,\n",
              " 'lecturer': 32,\n",
              " 'obtained': 39,\n",
              " 'phd': 42,\n",
              " 'economics': 16,\n",
              " 'vanderbilt': 52,\n",
              " 'west': 53,\n",
              " 'germany': 22}"
            ]
          },
          "metadata": {},
          "execution_count": 61
        }
      ]
    },
    {
      "cell_type": "code",
      "source": [
        " corpus[0]"
      ],
      "metadata": {
        "colab": {
          "base_uri": "https://localhost:8080/",
          "height": 52
        },
        "id": "S9eoQWNus2dN",
        "outputId": "6d96f720-6598-4a74-f02b-c8cb0be655e3"
      },
      "execution_count": 62,
      "outputs": [
        {
          "output_type": "execute_result",
          "data": {
            "text/plain": [
              "'Muhammad Yunus born June Bangladeshi economist entrepreneur statesman civil society leader serving Chief Adviser interim government Bangladesh since August'"
            ],
            "application/vnd.google.colaboratory.intrinsic+json": {
              "type": "string"
            }
          },
          "metadata": {},
          "execution_count": 62
        }
      ]
    },
    {
      "cell_type": "code",
      "source": [
        "X[0].toarray()"
      ],
      "metadata": {
        "colab": {
          "base_uri": "https://localhost:8080/"
        },
        "id": "zVWcq47vtNUb",
        "outputId": "3d2b30dc-3ab0-4b51-94e1-cc1095705f17"
      },
      "execution_count": 63,
      "outputs": [
        {
          "output_type": "execute_result",
          "data": {
            "text/plain": [
              "array([[1, 1, 0, 0, 1, 1, 0, 1, 1, 0, 1, 0, 0, 0, 0, 0, 0, 1, 1, 0, 0, 0,\n",
              "        0, 1, 0, 0, 0, 1, 0, 0, 1, 1, 0, 0, 0, 0, 0, 1, 0, 0, 0, 0, 0, 0,\n",
              "        0, 0, 0, 1, 1, 1, 1, 0, 0, 0, 1]])"
            ]
          },
          "metadata": {},
          "execution_count": 63
        }
      ]
    },
    {
      "cell_type": "code",
      "source": [],
      "metadata": {
        "id": "mM0cd6AvtVt4"
      },
      "execution_count": null,
      "outputs": []
    }
  ]
}