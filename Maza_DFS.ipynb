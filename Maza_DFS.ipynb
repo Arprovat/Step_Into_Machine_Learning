{
  "nbformat": 4,
  "nbformat_minor": 0,
  "metadata": {
    "colab": {
      "provenance": [],
      "authorship_tag": "ABX9TyND6ezVOx/7GliJtAbydeCP",
      "include_colab_link": true
    },
    "kernelspec": {
      "name": "python3",
      "display_name": "Python 3"
    },
    "language_info": {
      "name": "python"
    }
  },
  "cells": [
    {
      "cell_type": "markdown",
      "metadata": {
        "id": "view-in-github",
        "colab_type": "text"
      },
      "source": [
        "<a href=\"https://colab.research.google.com/github/Arprovat/Step_Into_Machine_Learning/blob/master/Maza_DFS.ipynb\" target=\"_parent\"><img src=\"https://colab.research.google.com/assets/colab-badge.svg\" alt=\"Open In Colab\"/></a>"
      ]
    },
    {
      "cell_type": "code",
      "execution_count": 8,
      "metadata": {
        "id": "Sc79AuEXC3FX",
        "colab": {
          "base_uri": "https://localhost:8080/"
        },
        "outputId": "97ae8de1-90a8-477f-df48-0cf32fa45b74"
      },
      "outputs": [
        {
          "output_type": "stream",
          "name": "stdout",
          "text": [
            "[(0, 0), (1, 0), (2, 0), (2, 1), (2, 2), (3, 2), (4, 2), (4, 3), (4, 4)]\n"
          ]
        }
      ],
      "source": [
        "def isvalid(maza,x,y):\n",
        "    return x>=0 and x<len(maza) and y>=0 and y<len(maza[0]) and maza[x][y]==0\n",
        "\n",
        "def dfs(maza,start,goal,path,visited):\n",
        "  if start==goal:\n",
        "    path.append(start)\n",
        "    return True\n",
        "\n",
        "  visited.append(start)\n",
        "  path.append(start)\n",
        "\n",
        "  move=[[-1,0],[1,0],[0,-1],[0,1]]\n",
        "\n",
        "  for i in move:\n",
        "    if isvalid(maza,start[0]+i[0],start[1]+i[1]) and (start[0]+i[0],start[1]+i[1]) not in visited:\n",
        "      if dfs(maza,(start[0]+i[0],start[1]+i[1]),goal,path,visited):\n",
        "        return True\n",
        "  path.pop()\n",
        "  visited.pop()\n",
        "  return False\n",
        "\n",
        "def main():\n",
        "  maza=[\n",
        "    [0, 1, 0, 0, 0],\n",
        "    [0, 1, 0, 1, 1],\n",
        "    [0, 0, 0, 1, 0],\n",
        "    [1, 1, 0, 1, 0],\n",
        "    [0, 0, 0, 0, 0]\n",
        "\n",
        "        ]\n",
        "\n",
        "  visited=[]\n",
        "  path=[]\n",
        "  start=(0,0)\n",
        "  goal=(4,4)\n",
        "  if dfs(maza,start,goal,path,visited):\n",
        "    print(path)\n",
        "  else:\n",
        "    print(\"no path\")\n",
        "\n",
        "main()"
      ]
    }
  ]
}