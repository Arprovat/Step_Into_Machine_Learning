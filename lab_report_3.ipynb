{
  "nbformat": 4,
  "nbformat_minor": 0,
  "metadata": {
    "colab": {
      "provenance": [],
      "authorship_tag": "ABX9TyOeb068EGGsdDBvDcBrC96O",
      "include_colab_link": true
    },
    "kernelspec": {
      "name": "python3",
      "display_name": "Python 3"
    },
    "language_info": {
      "name": "python"
    }
  },
  "cells": [
    {
      "cell_type": "markdown",
      "metadata": {
        "id": "view-in-github",
        "colab_type": "text"
      },
      "source": [
        "<a href=\"https://colab.research.google.com/github/Arprovat/Step_Into_Machine_Learning/blob/master/lab_report_3.ipynb\" target=\"_parent\"><img src=\"https://colab.research.google.com/assets/colab-badge.svg\" alt=\"Open In Colab\"/></a>"
      ]
    },
    {
      "cell_type": "code",
      "execution_count": 2,
      "metadata": {
        "colab": {
          "base_uri": "https://localhost:8080/"
        },
        "id": "YTu_eA5WE7Cp",
        "outputId": "3a7289d1-5096-4428-ffb5-299f0eaa6067"
      },
      "outputs": [
        {
          "output_type": "stream",
          "name": "stdout",
          "text": [
            "Found 6 coloring(s):\n",
            "\n",
            "Solution 1: [0, 1, 2, 0]\n",
            "Solution 2: [0, 2, 1, 0]\n",
            "Solution 3: [1, 0, 2, 1]\n",
            "Solution 4: [1, 2, 0, 1]\n",
            "Solution 5: [2, 0, 1, 2]\n",
            "Solution 6: [2, 1, 0, 2]\n"
          ]
        }
      ],
      "source": [
        "\n",
        "def load_input(path):\n",
        "\n",
        "    with open(path, 'r') as f:\n",
        "        parts = f.readline().strip().split()\n",
        "        num_nodes, num_colors = map(int, parts)\n",
        "        matrix = [list(map(int, f.readline().split())) for _ in range(num_nodes)]\n",
        "    return num_nodes, num_colors, matrix\n",
        "\n",
        "\n",
        "def is_possible(matrix, node, color, num_nodes, colors):\n",
        "    for nbr in range(num_nodes):\n",
        "        if matrix[node][nbr] == 1 and colors[nbr] == color:\n",
        "            return False\n",
        "    return True\n",
        "\n",
        "def backtrack(matrix, node, num_nodes, num_colors, colors, solutions):\n",
        "    if node == num_nodes:\n",
        "        solutions.append(colors.copy())\n",
        "        return\n",
        "    for c in range(num_colors):\n",
        "        if is_possible(matrix, node, c, num_nodes, colors):\n",
        "            colors[node] = c\n",
        "            backtrack(matrix, node+1, num_nodes, num_colors, colors, solutions)\n",
        "            colors[node] = -1\n",
        "\n",
        "\n",
        "num_nodes, num_colors, matrix = load_input(\"/content/input.txt\")\n",
        "colors = [-1] * num_nodes\n",
        "solutions = []\n",
        "backtrack(matrix, 0, num_nodes, num_colors, colors, solutions)\n",
        "\n",
        "\n",
        "if solutions:\n",
        "    print(f\"Found {len(solutions)} coloring(s):\\n\")\n",
        "    for i, sol in enumerate(solutions, 1):\n",
        "        print(f\"Solution {i}: {sol}\")\n",
        "else:\n",
        "    print(\"No valid colorings found.\")\n"
      ]
    },
    {
      "cell_type": "code",
      "source": [
        "N = int(input(\"Enter N (board size / number of queens): \"))\n",
        "\n",
        "\n",
        "\n",
        "def solve_n_queens(n):\n",
        "    solutions = []\n",
        "    positions = [-1] * n\n",
        "\n",
        "    def is_safe(r, c):\n",
        "\n",
        "        for prev_row in range(r):\n",
        "            prev_col = positions[prev_row]\n",
        "\n",
        "            if prev_col == c or abs(prev_col - c) == r - prev_row:\n",
        "                return False\n",
        "        return True\n",
        "\n",
        "    def backtrack(r):\n",
        "        if r == n:\n",
        "\n",
        "            board = []\n",
        "            for row in range(n):\n",
        "                line = ['0 '] * n\n",
        "                line[positions[row]] = '1 '\n",
        "                board.append(''.join(line))\n",
        "            solutions.append(board)\n",
        "            return\n",
        "        for c in range(n):\n",
        "            if is_safe(r, c):\n",
        "                positions[r] = c\n",
        "                backtrack(r + 1)\n",
        "\n",
        "\n",
        "    backtrack(0)\n",
        "    return solutions\n",
        "\n",
        "\n",
        "all_sols = solve_n_queens(N)\n",
        "print(f\"\\nFound {len(all_sols)} solution(s) for N={N}.\\n\")\n",
        "for idx, sol in enumerate(all_sols, 1):\n",
        "    print(f\"Solution {idx}:\")\n",
        "    print(\"\\n\".join(sol))\n",
        "    print()\n"
      ],
      "metadata": {
        "colab": {
          "base_uri": "https://localhost:8080/"
        },
        "id": "Fr1jcvbmGU5W",
        "outputId": "ca239bf1-e31f-4a3d-8a18-fb65f97dc707"
      },
      "execution_count": 5,
      "outputs": [
        {
          "output_type": "stream",
          "name": "stdout",
          "text": [
            "Enter N (board size / number of queens): 4\n",
            "\n",
            "Found 2 solution(s) for N=4.\n",
            "\n",
            "Solution 1:\n",
            "0 1 0 0 \n",
            "0 0 0 1 \n",
            "1 0 0 0 \n",
            "0 0 1 0 \n",
            "\n",
            "Solution 2:\n",
            "0 0 1 0 \n",
            "1 0 0 0 \n",
            "0 0 0 1 \n",
            "0 1 0 0 \n",
            "\n"
          ]
        }
      ]
    }
  ]
}